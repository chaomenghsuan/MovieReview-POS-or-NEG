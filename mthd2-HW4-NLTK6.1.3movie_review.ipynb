{
 "cells": [
  {
   "cell_type": "markdown",
   "metadata": {},
   "source": [
    "# Movie Reviews: Positive? Negative?"
   ]
  },
  {
   "cell_type": "code",
   "execution_count": 1,
   "metadata": {
    "collapsed": true
   },
   "outputs": [],
   "source": [
    "from nltk.corpus import movie_reviews\n",
    "import nltk\n",
    "import numpy as np\n",
    "import pandas as pd\n",
    "import random\n",
    "import itertools\n",
    "from sklearn.preprocessing import LabelEncoder\n",
    "from sklearn.feature_extraction.text import CountVectorizer\n",
    "from sklearn.model_selection import train_test_split\n",
    "from sklearn import tree\n",
    "from sklearn.naive_bayes import MultinomialNB\n",
    "from sklearn.linear_model import LogisticRegression\n",
    "from sklearn.metrics import accuracy_score, confusion_matrix"
   ]
  },
  {
   "cell_type": "code",
   "execution_count": 2,
   "metadata": {
    "collapsed": true
   },
   "outputs": [],
   "source": [
    "documents = [(list(movie_reviews.words(fileid)), category)\n",
    "             for category in movie_reviews.categories()\n",
    "             for fileid in movie_reviews.fileids(category)]\n",
    "random.shuffle(documents)"
   ]
  },
  {
   "cell_type": "code",
   "execution_count": 24,
   "metadata": {},
   "outputs": [],
   "source": [
    "features = [documents[i][0] for i in range(len(documents))]"
   ]
  },
  {
   "cell_type": "code",
   "execution_count": 7,
   "metadata": {},
   "outputs": [
    {
     "data": {
      "text/plain": [
       "'\" you \\' ve got mail \" is the very definition of a \" cute \" movie . it \\' s got cute stars , a cute story - line , and even cute pets . despite this over - whelming cuteness ( or maybe because of it ) , i loved \" you \\' ve got mail \" . i know , i know . i \\' m supposed to be a film critic . i \\' m not supposed to love transparent and formula pictures like this . but darn it , somewhere along the way , \" you \\' ve got mail \" reeled me in , hook , line , and sinker . the movie stars tom hanks and meg ryan as two somewhat unhappy new yorkers who meet in an aol online chat room and quickly become close friends , without ever knowing each others identity . as the movie progresses , though , they begin to discover that they have a lot in common with each other . meanwhile , in \" real - life \" , they are bitter competitors . she owns a quaint little children \\' s bookstore , he owns one of those gigantic super - bookstores that offer impersonal service and discount prices . while his store threatens to run her store out of business , their online relationship grows stronger . \" you \\' ve got mail \" is as artificial as movies come . everything is nice and happy and by the end , all the characters have gotten exactly what they wanted out of life . there are no real conflicts , no major disappointments , no unresolved issues . nevertheless , i quite enjoyed it . in fact , i can \\' t remember the last time i had such a good time at the movies . i think sometimes you have to be able to watch a movie and just get drawn into it . the fact that stars hank and ryan are at the top of their game does not hurt either . in particular , hanks is at his best here , turning his \" charm - meter \" up to 11 . everytime he was on screen , he had my full attention . and despite the fact that he was driving little bookstores out of business , i was rooting for him . it was good to see hanks back doing what he does best : playing the affable everyman . \" you \\' ve got mail \" certainly won \\' t be winning any awards , but as an exercise in pure entertainment , it \\' s as good as it gets .'"
      ]
     },
     "execution_count": 7,
     "metadata": {},
     "output_type": "execute_result"
    }
   ],
   "source": [
    "features = [' '.join(features[i]) for i in range(len(features))]\n",
    "features[0]"
   ]
  },
  {
   "cell_type": "code",
   "execution_count": 8,
   "metadata": {},
   "outputs": [
    {
     "data": {
      "text/plain": [
       "(2000, 39659)"
      ]
     },
     "execution_count": 8,
     "metadata": {},
     "output_type": "execute_result"
    }
   ],
   "source": [
    "vec = CountVectorizer(binary=True)\n",
    "X = vec.fit_transform(features).A\n",
    "X.shape"
   ]
  },
  {
   "cell_type": "code",
   "execution_count": 11,
   "metadata": {},
   "outputs": [
    {
     "data": {
      "text/plain": [
       "array(['pos', 'pos', 'neg', 'neg', 'neg'], dtype='<U3')"
      ]
     },
     "execution_count": 11,
     "metadata": {},
     "output_type": "execute_result"
    }
   ],
   "source": [
    "labels = np.array([documents[i][1] for i in range(len(documents))])\n",
    "labels[:5]"
   ]
  },
  {
   "cell_type": "code",
   "execution_count": 12,
   "metadata": {},
   "outputs": [
    {
     "data": {
      "text/plain": [
       "array([1, 1, 0, 0, 0])"
      ]
     },
     "execution_count": 12,
     "metadata": {},
     "output_type": "execute_result"
    }
   ],
   "source": [
    "le = LabelEncoder()\n",
    "le.fit(movie_reviews.categories())\n",
    "y = le.transform(labels)\n",
    "y[:5]"
   ]
  },
  {
   "cell_type": "code",
   "execution_count": 13,
   "metadata": {
    "collapsed": true
   },
   "outputs": [],
   "source": [
    "Xtrain, Xtest, ytrain, ytest = train_test_split(X, y, test_size=0.3, random_state=0)"
   ]
  },
  {
   "cell_type": "code",
   "execution_count": 15,
   "metadata": {
    "collapsed": true
   },
   "outputs": [],
   "source": [
    "# Decision Tree\n",
    "clf_tree = tree.DecisionTreeClassifier()\n",
    "clf_tree.fit(Xtrain, ytrain)\n",
    "pred_tree = clf_tree.predict(Xtest)"
   ]
  },
  {
   "cell_type": "code",
   "execution_count": 16,
   "metadata": {},
   "outputs": [
    {
     "name": "stdout",
     "output_type": "stream",
     "text": [
      "Accuracy: 0.598\n"
     ]
    }
   ],
   "source": [
    "print('Accuracy:', round(accuracy_score(ytest, pred_tree), 3))"
   ]
  },
  {
   "cell_type": "code",
   "execution_count": 17,
   "metadata": {},
   "outputs": [
    {
     "name": "stdout",
     "output_type": "stream",
     "text": [
      "     predict neg  predict pos\n",
      "neg          165          125\n",
      "pos          116          194\n"
     ]
    }
   ],
   "source": [
    "print(pd.DataFrame(confusion_matrix(ytest, pred_tree), \n",
    "                   index=['neg', 'pos'], \n",
    "                   columns=['predict neg','predict pos']))"
   ]
  },
  {
   "cell_type": "code",
   "execution_count": 18,
   "metadata": {
    "collapsed": true
   },
   "outputs": [],
   "source": [
    "# Naive Bayes\n",
    "clf_nb = MultinomialNB()\n",
    "clf_nb.fit(Xtrain, ytrain)\n",
    "pred_nb = clf_nb.predict(Xtest)"
   ]
  },
  {
   "cell_type": "code",
   "execution_count": 19,
   "metadata": {},
   "outputs": [
    {
     "name": "stdout",
     "output_type": "stream",
     "text": [
      "Accuracy: 0.818\n"
     ]
    }
   ],
   "source": [
    "print('Accuracy:', round(accuracy_score(ytest, pred_nb), 3))"
   ]
  },
  {
   "cell_type": "code",
   "execution_count": 20,
   "metadata": {},
   "outputs": [
    {
     "name": "stdout",
     "output_type": "stream",
     "text": [
      "     predict neg  predict pos\n",
      "neg          250           40\n",
      "pos           69          241\n"
     ]
    }
   ],
   "source": [
    "print(pd.DataFrame(confusion_matrix(ytest, pred_nb), \n",
    "                   index=['neg', 'pos'], \n",
    "                   columns=['predict neg','predict pos']))"
   ]
  },
  {
   "cell_type": "code",
   "execution_count": 21,
   "metadata": {
    "collapsed": true
   },
   "outputs": [],
   "source": [
    "# Maximum Entropy\n",
    "clf_mx = LogisticRegression()\n",
    "clf_mx.fit(Xtrain, ytrain)\n",
    "pred_mx = clf_mx.predict(Xtest)"
   ]
  },
  {
   "cell_type": "code",
   "execution_count": 22,
   "metadata": {},
   "outputs": [
    {
     "name": "stdout",
     "output_type": "stream",
     "text": [
      "Accuracy: 0.852\n"
     ]
    }
   ],
   "source": [
    "print('Accuracy:', round(accuracy_score(ytest, pred_mx), 3))"
   ]
  },
  {
   "cell_type": "code",
   "execution_count": 23,
   "metadata": {},
   "outputs": [
    {
     "name": "stdout",
     "output_type": "stream",
     "text": [
      "     predict neg  predict pos\n",
      "neg          248           42\n",
      "pos           47          263\n"
     ]
    }
   ],
   "source": [
    "print(pd.DataFrame(confusion_matrix(ytest, pred_mx), \n",
    "                   index=['neg', 'pos'], \n",
    "                   columns=['predict neg','predict pos']))"
   ]
  },
  {
   "cell_type": "code",
   "execution_count": null,
   "metadata": {
    "collapsed": true
   },
   "outputs": [],
   "source": []
  }
 ],
 "metadata": {
  "kernelspec": {
   "display_name": "Python 3",
   "language": "python",
   "name": "python3"
  },
  "language_info": {
   "codemirror_mode": {
    "name": "ipython",
    "version": 3
   },
   "file_extension": ".py",
   "mimetype": "text/x-python",
   "name": "python",
   "nbconvert_exporter": "python",
   "pygments_lexer": "ipython3",
   "version": "3.6.1"
  }
 },
 "nbformat": 4,
 "nbformat_minor": 2
}
